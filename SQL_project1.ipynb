{
 "cells": [
  {
   "cell_type": "code",
   "execution_count": 2,
   "id": "f9761cf8-81b2-4edb-9ef6-057dc5a9a49d",
   "metadata": {
    "tags": []
   },
   "outputs": [],
   "source": [
    "# create sakila database and objects\n",
    "!mysql < /home/jupyter/sakila/sakila-database.sql\n",
    "!mysql < /home/jupyter/sakila/sakila-data.sql"
   ]
  },
  {
   "cell_type": "code",
   "execution_count": 3,
   "id": "8b57c734-f656-415b-b1ec-b77f6bdfb9f2",
   "metadata": {},
   "outputs": [
    {
     "name": "stdout",
     "output_type": "stream",
     "text": [
      "+----------------------------+\n",
      "| Tables_in_sakila           |\n",
      "+----------------------------+\n",
      "| actor                      |\n",
      "| actor_info                 |\n",
      "| address                    |\n",
      "| category                   |\n",
      "| city                       |\n",
      "| country                    |\n",
      "| customer                   |\n",
      "| customer_list              |\n",
      "| film                       |\n",
      "| film_actor                 |\n",
      "| film_category              |\n",
      "| film_list                  |\n",
      "| film_text                  |\n",
      "| inventory                  |\n",
      "| language                   |\n",
      "| nicer_but_slower_film_list |\n",
      "| payment                    |\n",
      "| rental                     |\n",
      "| sales_by_film_category     |\n",
      "| sales_by_store             |\n",
      "| staff                      |\n",
      "| staff_list                 |\n",
      "| store                      |\n",
      "+----------------------------+\n"
     ]
    }
   ],
   "source": [
    "# show a list of the tables in the sakila database\n",
    "!mysql sakila -e \"show tables\""
   ]
  },
  {
   "cell_type": "code",
   "execution_count": 4,
   "id": "d19388ae-5b65-4317-8738-3afb8560d102",
   "metadata": {
    "tags": []
   },
   "outputs": [
    {
     "name": "stdout",
     "output_type": "stream",
     "text": [
      "+----------+\n",
      "| count(*) |\n",
      "+----------+\n",
      "|      200 |\n",
      "+----------+\n"
     ]
    }
   ],
   "source": [
    "# count the rows in the actor table\n",
    "!mysql sakila -e \"select count(*) from actor\""
   ]
  },
  {
   "cell_type": "code",
   "execution_count": 5,
   "id": "565fdbae-d813-46b1-8e56-afbfdcddc97e",
   "metadata": {
    "tags": []
   },
   "outputs": [
    {
     "name": "stdout",
     "output_type": "stream",
     "text": [
      "+----------+\n",
      "| count(*) |\n",
      "+----------+\n",
      "|      200 |\n",
      "+----------+\n"
     ]
    }
   ],
   "source": [
    "# count the rows in the actor_info table\n",
    "!mysql sakila -e \"select count(*) from actor_info\""
   ]
  },
  {
   "cell_type": "code",
   "execution_count": 6,
   "id": "dac6e550-bd3a-4720-8eb4-840ad5456b45",
   "metadata": {
    "tags": []
   },
   "outputs": [
    {
     "name": "stdout",
     "output_type": "stream",
     "text": [
      "+----------+\n",
      "| count(*) |\n",
      "+----------+\n",
      "|      603 |\n",
      "+----------+\n"
     ]
    }
   ],
   "source": [
    "# count the rows in the address\n",
    "!mysql sakila -e \"select count(*) from address\""
   ]
  },
  {
   "cell_type": "code",
   "execution_count": 7,
   "id": "f5eae424-c87b-4796-b141-54361ef2e156",
   "metadata": {
    "tags": []
   },
   "outputs": [
    {
     "name": "stdout",
     "output_type": "stream",
     "text": [
      "+----------+\n",
      "| count(*) |\n",
      "+----------+\n",
      "|       16 |\n",
      "+----------+\n"
     ]
    }
   ],
   "source": [
    "# count the rows in the category table\n",
    "!mysql sakila -e \"select count(*) from category\""
   ]
  },
  {
   "cell_type": "code",
   "execution_count": 8,
   "id": "ba6ccadd-6b17-438f-a567-5f7176c8961f",
   "metadata": {
    "tags": []
   },
   "outputs": [
    {
     "name": "stdout",
     "output_type": "stream",
     "text": [
      "+----------+\n",
      "| count(*) |\n",
      "+----------+\n",
      "|      600 |\n",
      "+----------+\n"
     ]
    }
   ],
   "source": [
    "# count the rows in the city table\n",
    "!mysql sakila -e \"select count(*) from city\""
   ]
  },
  {
   "cell_type": "code",
   "execution_count": 9,
   "id": "6ded5d49-ab8e-4fdb-a0c3-c60e1bb40104",
   "metadata": {
    "tags": []
   },
   "outputs": [
    {
     "name": "stdout",
     "output_type": "stream",
     "text": [
      "+----------+------------+--------------+---------------------+\n",
      "| actor_id | first_name | last_name    | last_update         |\n",
      "+----------+------------+--------------+---------------------+\n",
      "|        1 | PENELOPE   | GUINESS      | 2006-02-15 04:34:33 |\n",
      "|        2 | NICK       | WAHLBERG     | 2006-02-15 04:34:33 |\n",
      "|        3 | ED         | CHASE        | 2006-02-15 04:34:33 |\n",
      "|        4 | JENNIFER   | DAVIS        | 2006-02-15 04:34:33 |\n",
      "|        5 | JOHNNY     | LOLLOBRIGIDA | 2006-02-15 04:34:33 |\n",
      "+----------+------------+--------------+---------------------+\n"
     ]
    }
   ],
   "source": [
    "# display all the columns in the first five rows of actor table\n",
    "!mysql sakila -e \"SELECT * FROM actor LIMIT 5;\""
   ]
  },
  {
   "cell_type": "code",
   "execution_count": 10,
   "id": "acc20bcd-4de4-4c6c-9d6c-06725ad319b3",
   "metadata": {
    "tags": []
   },
   "outputs": [
    {
     "name": "stdout",
     "output_type": "stream",
     "text": [
      "+----------+------------+--------------+------------------------------------------------------------------------------------------------------------------------------------------------------------------------------------------------------------------------------------------------------------------------------------------------------------------------------------------------------------------------------------------------------------------------------------------------------------------------------------------------------------------------------------------------------------------------------------------------------------------------+\n",
      "| actor_id | first_name | last_name    | film_info                                                                                                                                                                                                                                                                                                                                                                                                                                                                                                                                                                                                              |\n",
      "+----------+------------+--------------+------------------------------------------------------------------------------------------------------------------------------------------------------------------------------------------------------------------------------------------------------------------------------------------------------------------------------------------------------------------------------------------------------------------------------------------------------------------------------------------------------------------------------------------------------------------------------------------------------------------------+\n",
      "|        1 | PENELOPE   | GUINESS      | Animation: ANACONDA CONFESSIONS; Children: LANGUAGE COWBOY; Classics: COLOR PHILADELPHIA, WESTWARD SEABISCUIT; Comedy: VERTIGO NORTHWEST; Documentary: ACADEMY DINOSAUR; Family: KING EVOLUTION, SPLASH GUMP; Foreign: MULHOLLAND BEAST; Games: BULWORTH COMMANDMENTS, HUMAN GRAFFITI; Horror: ELEPHANT TROJAN, LADY STAGE, RULES HUMAN; Music: WIZARD COLDBLOODED; New: ANGELS LIFE, OKLAHOMA JUMANJI; Sci-Fi: CHEAPER CLYDE; Sports: GLEAMING JAWBREAKER                                                                                                                                                             |\n",
      "|        2 | NICK       | WAHLBERG     | Action: BULL SHAWSHANK; Animation: FIGHT JAWBREAKER; Children: JERSEY SASSY; Classics: DRACULA CRYSTAL, GILBERT PELICAN; Comedy: MALLRATS UNITED, RUSHMORE MERMAID; Documentary: ADAPTATION HOLES; Drama: WARDROBE PHANTOM; Family: APACHE DIVINE, CHISUM BEHAVIOR, INDIAN LOVE, MAGUIRE APACHE; Foreign: BABY HALL, HAPPINESS UNITED; Games: ROOF CHAMPION; Music: LUCKY FLYING; New: DESTINY SATURDAY, FLASH WARS, JEKYLL FROGMEN, MASK PEACH; Sci-Fi: CHAINSAW UPTOWN, GOODFELLAS SALUTE; Travel: LIAISONS SWEET, SMILE EARRING                                                                                     |\n",
      "|        3 | ED         | CHASE        | Action: CADDYSHACK JEDI, FORREST SONS; Classics: FROST HEAD, JEEPERS WEDDING; Documentary: ARMY FLINTSTONES, FRENCH HOLIDAY, HALLOWEEN NUTS, HUNTER ALTER, WEDDING APOLLO, YOUNG LANGUAGE; Drama: LUCK OPUS, NECKLACE OUTBREAK, SPICE SORORITY; Foreign: COWBOY DOOM, WHALE BIKINI; Music: ALONE TRIP; New: EVE RESURRECTION, PLATOON INSTINCT; Sci-Fi: WEEKEND PERSONAL; Sports: ARTIST COLDBLOODED, IMAGE PRINCESS; Travel: BOONDOCK BALLROOM                                                                                                                                                                        |\n",
      "|        4 | JENNIFER   | DAVIS        | Action: BAREFOOT MANCHURIAN; Animation: ANACONDA CONFESSIONS, GHOSTBUSTERS ELF; Comedy: SUBMARINE BED; Documentary: BED HIGHBALL, NATIONAL STORY, RAIDERS ANTITRUST; Drama: BLADE POLISH, GREEDY ROOTS; Family: SPLASH GUMP; Horror: TREASURE COMMAND; Music: HANOVER GALAXY, REDS POCUS; New: ANGELS LIFE, JUMANJI BLADE, OKLAHOMA JUMANJI; Sci-Fi: RANDOM GO, SILVERADO GOLDFINGER, UNFORGIVEN ZOOLANDER; Sports: INSTINCT AIRPORT, POSEIDON FOREVER; Travel: BOONDOCK BALLROOM                                                                                                                                      |\n",
      "|        5 | JOHNNY     | LOLLOBRIGIDA | Action: AMADEUS HOLY, GRAIL FRANKENSTEIN, RINGS HEARTBREAKERS; Animation: SUNRISE LEAGUE; Children: HALL CASSIDY; Comedy: DADDY PITTSBURGH; Documentary: BONNIE HOLOCAUST, METAL ARMAGEDDON, PACIFIC AMISTAD, POCUS PULP; Drama: CHITTY LOCK, CONEHEADS SMOOCHY; Games: FIRE WOLVES; Horror: COMMANDMENTS EXPRESS, LOVE SUICIDES, PATTON INTERVIEW; Music: BANGER PINOCCHIO, HEAVENLY GUN; New: FRONTIER CABIN, RIDGEMONT SUBMARINE; Sci-Fi: DAISY MENAGERIE, GOODFELLAS SALUTE, SOLDIERS EVOLUTION; Sports: GROOVE FICTION, KRAMER CHOCOLATE, STAR OPERATION; Travel: ENOUGH RAGING, ESCAPE METROPOLIS, SMILE EARRING |\n",
      "+----------+------------+--------------+------------------------------------------------------------------------------------------------------------------------------------------------------------------------------------------------------------------------------------------------------------------------------------------------------------------------------------------------------------------------------------------------------------------------------------------------------------------------------------------------------------------------------------------------------------------------------------------------------------------------+\n"
     ]
    }
   ],
   "source": [
    "# display all the columns in the first five rows of actor_info table\n",
    "!mysql sakila -e \"SELECT * FROM actor_info LIMIT 5;\""
   ]
  },
  {
   "cell_type": "code",
   "execution_count": 20,
   "id": "406ea88f-2fc2-420b-b5d4-953c3c30e3fa",
   "metadata": {
    "tags": []
   },
   "outputs": [
    {
     "name": "stdout",
     "output_type": "stream",
     "text": [
      "+------------+----------------------+----------+----------+---------+-------------+-------------+---------------------------+---------------------+\n",
      "| address_id | address              | address2 | district | city_id | postal_code | phone       | location                  | last_update         |\n",
      "+------------+----------------------+----------+----------+---------+-------------+-------------+---------------------------+---------------------+\n",
      "|          1 | 47 MySakila Drive    | NULL     | Alberta  |     300 |             |             |     \u0001\u0001   >\n",
      "2]c4\\�v\u001fۍ��H@     | 2014-09-25 22:30:27 |\n",
      "|          2 | 28 MySQL Boulevard   | NULL     | QLD      |     576 |             |             |     \u0001\u0001   �\u0010�߁$c@N��P\"�;�        | 2014-09-25 22:30:09 |\n",
      "|          3 | 23 Workhaven Lane    | NULL     | Alberta  |     300 |             | 14033335568 |     \u0001\u0001   ��\u0019hc4\\�\u001d",
      "�~p��H@       | 2014-09-25 22:30:27 |\n",
      "�4\u001f&c@B֮d\"�;�     | 2014-09-25 22:30:09 |L     | QLD      |     576 |             | 6172235589  |     \u0001\u0001   [\n",
      "|          5 | 1913 Hanoi Way       |          | Nagasaki |     463 | 35200       | 28303384290 |     \u0001\u0001   (�7\u000e!7`@����_�@@       | 2014-09-25 22:31:53 |\n",
      "+------------+----------------------+----------+----------+---------+-------------+-------------+---------------------------+---------------------+\n"
     ]
    }
   ],
   "source": [
    "# display all the columns in the first five rows of address table\n",
    "!mysql sakila -e \"SELECT * FROM address LIMIT 5;\""
   ]
  },
  {
   "cell_type": "code",
   "execution_count": 12,
   "id": "7c107578-6ace-4fae-b43e-3f08d5752deb",
   "metadata": {},
   "outputs": [
    {
     "name": "stdout",
     "output_type": "stream",
     "text": [
      "+-------------+-----------+---------------------+\n",
      "| category_id | name      | last_update         |\n",
      "+-------------+-----------+---------------------+\n",
      "|           1 | Action    | 2006-02-15 04:46:27 |\n",
      "|           2 | Animation | 2006-02-15 04:46:27 |\n",
      "|           3 | Children  | 2006-02-15 04:46:27 |\n",
      "|           4 | Classics  | 2006-02-15 04:46:27 |\n",
      "|           5 | Comedy    | 2006-02-15 04:46:27 |\n",
      "+-------------+-----------+---------------------+\n"
     ]
    }
   ],
   "source": [
    "# display all the columns in the first five rows of category table\n",
    "!mysql sakila -e \"SELECT * FROM category LIMIT 5;\""
   ]
  },
  {
   "cell_type": "code",
   "execution_count": 13,
   "id": "e288af67-2844-4da6-bf6c-77af78a9a8bb",
   "metadata": {
    "tags": []
   },
   "outputs": [
    {
     "name": "stdout",
     "output_type": "stream",
     "text": [
      "+-----------+-------------+\n",
      "| category  | total_sales |\n",
      "+-----------+-------------+\n",
      "| Sports    |     5314.21 |\n",
      "| Sci-Fi    |     4756.98 |\n",
      "| Animation |     4656.30 |\n",
      "| Drama     |     4587.39 |\n",
      "| Comedy    |     4383.58 |\n",
      "+-----------+-------------+\n"
     ]
    }
   ],
   "source": [
    "# display all the columns in the first five rows of sales_by_film_category table\n",
    "!mysql sakila -e \"SELECT * FROM sales_by_film_category LIMIT 5;\""
   ]
  },
  {
   "cell_type": "code",
   "execution_count": 14,
   "id": "627289f8-9dd4-42fd-93b9-062894d25ad1",
   "metadata": {
    "tags": []
   },
   "outputs": [
    {
     "name": "stdout",
     "output_type": "stream",
     "text": [
      "+-----------+-------------+\n",
      "| category  | total_sales |\n",
      "+-----------+-------------+\n",
      "| Drama     |     4587.39 |\n",
      "| Animation |     4656.30 |\n",
      "| Sci-Fi    |     4756.98 |\n",
      "| Sports    |     5314.21 |\n",
      "+-----------+-------------+\n"
     ]
    }
   ],
   "source": [
    "# select the rows in sales_by_film_category where the total sales of the store is greater than 4500 units\n",
    "# order by the total sales value to see the best settling stores.\n",
    "!mysql sakila -e \"SELECT * FROM  sales_by_film_category WHERE total_sales > 4500 ORDER BY total_sales;\""
   ]
  },
  {
   "cell_type": "code",
   "execution_count": 15,
   "id": "dae3b040-6937-4217-ab6d-6bc6ca04c64d",
   "metadata": {
    "tags": []
   },
   "outputs": [],
   "source": [
    "# Insert a row into the end of the actor table with actor_id as 201, first_name as Albert, last_name as Einstein, and last_updated as the current date time\n",
    "!mysql sakila -e  \"INSERT INTO actor (actor_id, first_name, last_name, last_update) VALUES (201, 'Albert', 'Einstein', '2024-09-25 04:34:33')\""
   ]
  },
  {
   "cell_type": "code",
   "execution_count": 16,
   "id": "784ff804-b9ef-463d-8457-e4afed59c45d",
   "metadata": {
    "tags": []
   },
   "outputs": [],
   "source": [
    "# update the actor name of the row where actor_id = 1 to Bob\n",
    "!mysql sakila -e  \"UPDATE actor SET first_name = 'Bob' WHERE actor_id = 1\""
   ]
  },
  {
   "cell_type": "code",
   "execution_count": 24,
   "id": "f8603378-45fc-47c9-bd34-0d4579dc0ea6",
   "metadata": {
    "tags": []
   },
   "outputs": [],
   "source": [
    "# first delete the foreign key that actor id 5 references in the film_actor table\n",
    "!mysql sakila -e  \"DELETE FROM film_actor WHERE actor_id=5\"\n",
    "\n",
    "# then delete the parent key in the parent table\n",
    "!mysql sakila -e  \"DELETE FROM actor WHERE actor_id=5\""
   ]
  },
  {
   "cell_type": "code",
   "execution_count": 26,
   "id": "9adff0cf-6b32-4cdc-8fa7-d767e3d5c178",
   "metadata": {
    "tags": []
   },
   "outputs": [
    {
     "name": "stdout",
     "output_type": "stream",
     "text": [
      "+----------+-------------+-------------+---------------------+\n",
      "| actor_id | first_name  | last_name   | last_update         |\n",
      "+----------+-------------+-------------+---------------------+\n",
      "|        1 | Bob         | GUINESS     | 2024-09-26 15:55:18 |\n",
      "|        2 | NICK        | WAHLBERG    | 2006-02-15 04:34:33 |\n",
      "|        3 | ED          | CHASE       | 2006-02-15 04:34:33 |\n",
      "|        4 | JENNIFER    | DAVIS       | 2006-02-15 04:34:33 |\n",
      "|        6 | BETTE       | NICHOLSON   | 2006-02-15 04:34:33 |\n",
      "|        7 | GRACE       | MOSTEL      | 2006-02-15 04:34:33 |\n",
      "|        8 | MATTHEW     | JOHANSSON   | 2006-02-15 04:34:33 |\n",
      "|        9 | JOE         | SWANK       | 2006-02-15 04:34:33 |\n",
      "|       10 | CHRISTIAN   | GABLE       | 2006-02-15 04:34:33 |\n",
      "|       11 | ZERO        | CAGE        | 2006-02-15 04:34:33 |\n",
      "|       12 | KARL        | BERRY       | 2006-02-15 04:34:33 |\n",
      "|       13 | UMA         | WOOD        | 2006-02-15 04:34:33 |\n",
      "|       14 | VIVIEN      | BERGEN      | 2006-02-15 04:34:33 |\n",
      "|       15 | CUBA        | OLIVIER     | 2006-02-15 04:34:33 |\n",
      "|       16 | FRED        | COSTNER     | 2006-02-15 04:34:33 |\n",
      "|       17 | HELEN       | VOIGHT      | 2006-02-15 04:34:33 |\n",
      "|       18 | DAN         | TORN        | 2006-02-15 04:34:33 |\n",
      "|       19 | BOB         | FAWCETT     | 2006-02-15 04:34:33 |\n",
      "|       20 | LUCILLE     | TRACY       | 2006-02-15 04:34:33 |\n",
      "|       21 | KIRSTEN     | PALTROW     | 2006-02-15 04:34:33 |\n",
      "|       22 | ELVIS       | MARX        | 2006-02-15 04:34:33 |\n",
      "|       23 | SANDRA      | KILMER      | 2006-02-15 04:34:33 |\n",
      "|       24 | CAMERON     | STREEP      | 2006-02-15 04:34:33 |\n",
      "|       25 | KEVIN       | BLOOM       | 2006-02-15 04:34:33 |\n",
      "|       26 | RIP         | CRAWFORD    | 2006-02-15 04:34:33 |\n",
      "|       27 | JULIA       | MCQUEEN     | 2006-02-15 04:34:33 |\n",
      "|       28 | WOODY       | HOFFMAN     | 2006-02-15 04:34:33 |\n",
      "|       29 | ALEC        | WAYNE       | 2006-02-15 04:34:33 |\n",
      "|       30 | SANDRA      | PECK        | 2006-02-15 04:34:33 |\n",
      "|       31 | SISSY       | SOBIESKI    | 2006-02-15 04:34:33 |\n",
      "|       32 | TIM         | HACKMAN     | 2006-02-15 04:34:33 |\n",
      "|       33 | MILLA       | PECK        | 2006-02-15 04:34:33 |\n",
      "|       34 | AUDREY      | OLIVIER     | 2006-02-15 04:34:33 |\n",
      "|       35 | JUDY        | DEAN        | 2006-02-15 04:34:33 |\n",
      "|       36 | BURT        | DUKAKIS     | 2006-02-15 04:34:33 |\n",
      "|       37 | VAL         | BOLGER      | 2006-02-15 04:34:33 |\n",
      "|       38 | TOM         | MCKELLEN    | 2006-02-15 04:34:33 |\n",
      "|       39 | GOLDIE      | BRODY       | 2006-02-15 04:34:33 |\n",
      "|       40 | JOHNNY      | CAGE        | 2006-02-15 04:34:33 |\n",
      "|       41 | JODIE       | DEGENERES   | 2006-02-15 04:34:33 |\n",
      "|       42 | TOM         | MIRANDA     | 2006-02-15 04:34:33 |\n",
      "|       43 | KIRK        | JOVOVICH    | 2006-02-15 04:34:33 |\n",
      "|       44 | NICK        | STALLONE    | 2006-02-15 04:34:33 |\n",
      "|       45 | REESE       | KILMER      | 2006-02-15 04:34:33 |\n",
      "|       46 | PARKER      | GOLDBERG    | 2006-02-15 04:34:33 |\n",
      "|       47 | JULIA       | BARRYMORE   | 2006-02-15 04:34:33 |\n",
      "|       48 | FRANCES     | DAY-LEWIS   | 2006-02-15 04:34:33 |\n",
      "|       49 | ANNE        | CRONYN      | 2006-02-15 04:34:33 |\n",
      "|       50 | NATALIE     | HOPKINS     | 2006-02-15 04:34:33 |\n",
      "|       51 | GARY        | PHOENIX     | 2006-02-15 04:34:33 |\n",
      "|       52 | CARMEN      | HUNT        | 2006-02-15 04:34:33 |\n",
      "|       53 | MENA        | TEMPLE      | 2006-02-15 04:34:33 |\n",
      "|       54 | PENELOPE    | PINKETT     | 2006-02-15 04:34:33 |\n",
      "|       55 | FAY         | KILMER      | 2006-02-15 04:34:33 |\n",
      "|       56 | DAN         | HARRIS      | 2006-02-15 04:34:33 |\n",
      "|       57 | JUDE        | CRUISE      | 2006-02-15 04:34:33 |\n",
      "|       58 | CHRISTIAN   | AKROYD      | 2006-02-15 04:34:33 |\n",
      "|       59 | DUSTIN      | TAUTOU      | 2006-02-15 04:34:33 |\n",
      "|       60 | HENRY       | BERRY       | 2006-02-15 04:34:33 |\n",
      "|       61 | CHRISTIAN   | NEESON      | 2006-02-15 04:34:33 |\n",
      "|       62 | JAYNE       | NEESON      | 2006-02-15 04:34:33 |\n",
      "|       63 | CAMERON     | WRAY        | 2006-02-15 04:34:33 |\n",
      "|       64 | RAY         | JOHANSSON   | 2006-02-15 04:34:33 |\n",
      "|       65 | ANGELA      | HUDSON      | 2006-02-15 04:34:33 |\n",
      "|       66 | MARY        | TANDY       | 2006-02-15 04:34:33 |\n",
      "|       67 | JESSICA     | BAILEY      | 2006-02-15 04:34:33 |\n",
      "|       68 | RIP         | WINSLET     | 2006-02-15 04:34:33 |\n",
      "|       69 | KENNETH     | PALTROW     | 2006-02-15 04:34:33 |\n",
      "|       70 | MICHELLE    | MCCONAUGHEY | 2006-02-15 04:34:33 |\n",
      "|       71 | ADAM        | GRANT       | 2006-02-15 04:34:33 |\n",
      "|       72 | SEAN        | WILLIAMS    | 2006-02-15 04:34:33 |\n",
      "|       73 | GARY        | PENN        | 2006-02-15 04:34:33 |\n",
      "|       74 | MILLA       | KEITEL      | 2006-02-15 04:34:33 |\n",
      "|       75 | BURT        | POSEY       | 2006-02-15 04:34:33 |\n",
      "|       76 | ANGELINA    | ASTAIRE     | 2006-02-15 04:34:33 |\n",
      "|       77 | CARY        | MCCONAUGHEY | 2006-02-15 04:34:33 |\n",
      "|       78 | GROUCHO     | SINATRA     | 2006-02-15 04:34:33 |\n",
      "|       79 | MAE         | HOFFMAN     | 2006-02-15 04:34:33 |\n",
      "|       80 | RALPH       | CRUZ        | 2006-02-15 04:34:33 |\n",
      "|       81 | SCARLETT    | DAMON       | 2006-02-15 04:34:33 |\n",
      "|       82 | WOODY       | JOLIE       | 2006-02-15 04:34:33 |\n",
      "|       83 | BEN         | WILLIS      | 2006-02-15 04:34:33 |\n",
      "|       84 | JAMES       | PITT        | 2006-02-15 04:34:33 |\n",
      "|       85 | MINNIE      | ZELLWEGER   | 2006-02-15 04:34:33 |\n",
      "|       86 | GREG        | CHAPLIN     | 2006-02-15 04:34:33 |\n",
      "|       87 | SPENCER     | PECK        | 2006-02-15 04:34:33 |\n",
      "|       88 | KENNETH     | PESCI       | 2006-02-15 04:34:33 |\n",
      "|       89 | CHARLIZE    | DENCH       | 2006-02-15 04:34:33 |\n",
      "|       90 | SEAN        | GUINESS     | 2006-02-15 04:34:33 |\n",
      "|       91 | CHRISTOPHER | BERRY       | 2006-02-15 04:34:33 |\n",
      "|       92 | KIRSTEN     | AKROYD      | 2006-02-15 04:34:33 |\n",
      "|       93 | ELLEN       | PRESLEY     | 2006-02-15 04:34:33 |\n",
      "|       94 | KENNETH     | TORN        | 2006-02-15 04:34:33 |\n",
      "|       95 | DARYL       | WAHLBERG    | 2006-02-15 04:34:33 |\n",
      "|       96 | GENE        | WILLIS      | 2006-02-15 04:34:33 |\n",
      "|       97 | MEG         | HAWKE       | 2006-02-15 04:34:33 |\n",
      "|       98 | CHRIS       | BRIDGES     | 2006-02-15 04:34:33 |\n",
      "|       99 | JIM         | MOSTEL      | 2006-02-15 04:34:33 |\n",
      "|      100 | SPENCER     | DEPP        | 2006-02-15 04:34:33 |\n",
      "|      101 | SUSAN       | DAVIS       | 2006-02-15 04:34:33 |\n",
      "|      102 | WALTER      | TORN        | 2006-02-15 04:34:33 |\n",
      "|      103 | MATTHEW     | LEIGH       | 2006-02-15 04:34:33 |\n",
      "|      104 | PENELOPE    | CRONYN      | 2006-02-15 04:34:33 |\n",
      "|      105 | SIDNEY      | CROWE       | 2006-02-15 04:34:33 |\n",
      "|      106 | GROUCHO     | DUNST       | 2006-02-15 04:34:33 |\n",
      "|      107 | GINA        | DEGENERES   | 2006-02-15 04:34:33 |\n",
      "|      108 | WARREN      | NOLTE       | 2006-02-15 04:34:33 |\n",
      "|      109 | SYLVESTER   | DERN        | 2006-02-15 04:34:33 |\n",
      "|      110 | SUSAN       | DAVIS       | 2006-02-15 04:34:33 |\n",
      "|      111 | CAMERON     | ZELLWEGER   | 2006-02-15 04:34:33 |\n",
      "|      112 | RUSSELL     | BACALL      | 2006-02-15 04:34:33 |\n",
      "|      113 | MORGAN      | HOPKINS     | 2006-02-15 04:34:33 |\n",
      "|      114 | MORGAN      | MCDORMAND   | 2006-02-15 04:34:33 |\n",
      "|      115 | HARRISON    | BALE        | 2006-02-15 04:34:33 |\n",
      "|      116 | DAN         | STREEP      | 2006-02-15 04:34:33 |\n",
      "|      117 | RENEE       | TRACY       | 2006-02-15 04:34:33 |\n",
      "|      118 | CUBA        | ALLEN       | 2006-02-15 04:34:33 |\n",
      "|      119 | WARREN      | JACKMAN     | 2006-02-15 04:34:33 |\n",
      "|      120 | PENELOPE    | MONROE      | 2006-02-15 04:34:33 |\n",
      "|      121 | LIZA        | BERGMAN     | 2006-02-15 04:34:33 |\n",
      "|      122 | SALMA       | NOLTE       | 2006-02-15 04:34:33 |\n",
      "|      123 | JULIANNE    | DENCH       | 2006-02-15 04:34:33 |\n",
      "|      124 | SCARLETT    | BENING      | 2006-02-15 04:34:33 |\n",
      "|      125 | ALBERT      | NOLTE       | 2006-02-15 04:34:33 |\n",
      "|      126 | FRANCES     | TOMEI       | 2006-02-15 04:34:33 |\n",
      "|      127 | KEVIN       | GARLAND     | 2006-02-15 04:34:33 |\n",
      "|      128 | CATE        | MCQUEEN     | 2006-02-15 04:34:33 |\n",
      "|      129 | DARYL       | CRAWFORD    | 2006-02-15 04:34:33 |\n",
      "|      130 | GRETA       | KEITEL      | 2006-02-15 04:34:33 |\n",
      "|      131 | JANE        | JACKMAN     | 2006-02-15 04:34:33 |\n",
      "|      132 | ADAM        | HOPPER      | 2006-02-15 04:34:33 |\n",
      "|      133 | RICHARD     | PENN        | 2006-02-15 04:34:33 |\n",
      "|      134 | GENE        | HOPKINS     | 2006-02-15 04:34:33 |\n",
      "|      135 | RITA        | REYNOLDS    | 2006-02-15 04:34:33 |\n",
      "|      136 | ED          | MANSFIELD   | 2006-02-15 04:34:33 |\n",
      "|      137 | MORGAN      | WILLIAMS    | 2006-02-15 04:34:33 |\n",
      "|      138 | LUCILLE     | DEE         | 2006-02-15 04:34:33 |\n",
      "|      139 | EWAN        | GOODING     | 2006-02-15 04:34:33 |\n",
      "|      140 | WHOOPI      | HURT        | 2006-02-15 04:34:33 |\n",
      "|      141 | CATE        | HARRIS      | 2006-02-15 04:34:33 |\n",
      "|      142 | JADA        | RYDER       | 2006-02-15 04:34:33 |\n",
      "|      143 | RIVER       | DEAN        | 2006-02-15 04:34:33 |\n",
      "|      144 | ANGELA      | WITHERSPOON | 2006-02-15 04:34:33 |\n",
      "|      145 | KIM         | ALLEN       | 2006-02-15 04:34:33 |\n",
      "|      146 | ALBERT      | JOHANSSON   | 2006-02-15 04:34:33 |\n",
      "|      147 | FAY         | WINSLET     | 2006-02-15 04:34:33 |\n",
      "|      148 | EMILY       | DEE         | 2006-02-15 04:34:33 |\n",
      "|      149 | RUSSELL     | TEMPLE      | 2006-02-15 04:34:33 |\n",
      "|      150 | JAYNE       | NOLTE       | 2006-02-15 04:34:33 |\n",
      "|      151 | GEOFFREY    | HESTON      | 2006-02-15 04:34:33 |\n",
      "|      152 | BEN         | HARRIS      | 2006-02-15 04:34:33 |\n",
      "|      153 | MINNIE      | KILMER      | 2006-02-15 04:34:33 |\n",
      "|      154 | MERYL       | GIBSON      | 2006-02-15 04:34:33 |\n",
      "|      155 | IAN         | TANDY       | 2006-02-15 04:34:33 |\n",
      "|      156 | FAY         | WOOD        | 2006-02-15 04:34:33 |\n",
      "|      157 | GRETA       | MALDEN      | 2006-02-15 04:34:33 |\n",
      "|      158 | VIVIEN      | BASINGER    | 2006-02-15 04:34:33 |\n",
      "|      159 | LAURA       | BRODY       | 2006-02-15 04:34:33 |\n",
      "|      160 | CHRIS       | DEPP        | 2006-02-15 04:34:33 |\n",
      "|      161 | HARVEY      | HOPE        | 2006-02-15 04:34:33 |\n",
      "|      162 | OPRAH       | KILMER      | 2006-02-15 04:34:33 |\n",
      "|      163 | CHRISTOPHER | WEST        | 2006-02-15 04:34:33 |\n",
      "|      164 | HUMPHREY    | WILLIS      | 2006-02-15 04:34:33 |\n",
      "|      165 | AL          | GARLAND     | 2006-02-15 04:34:33 |\n",
      "|      166 | NICK        | DEGENERES   | 2006-02-15 04:34:33 |\n",
      "|      167 | LAURENCE    | BULLOCK     | 2006-02-15 04:34:33 |\n",
      "|      168 | WILL        | WILSON      | 2006-02-15 04:34:33 |\n",
      "|      169 | KENNETH     | HOFFMAN     | 2006-02-15 04:34:33 |\n",
      "|      170 | MENA        | HOPPER      | 2006-02-15 04:34:33 |\n",
      "|      171 | OLYMPIA     | PFEIFFER    | 2006-02-15 04:34:33 |\n",
      "|      172 | GROUCHO     | WILLIAMS    | 2006-02-15 04:34:33 |\n",
      "|      173 | ALAN        | DREYFUSS    | 2006-02-15 04:34:33 |\n",
      "|      174 | MICHAEL     | BENING      | 2006-02-15 04:34:33 |\n",
      "|      175 | WILLIAM     | HACKMAN     | 2006-02-15 04:34:33 |\n",
      "|      176 | JON         | CHASE       | 2006-02-15 04:34:33 |\n",
      "|      177 | GENE        | MCKELLEN    | 2006-02-15 04:34:33 |\n",
      "|      178 | LISA        | MONROE      | 2006-02-15 04:34:33 |\n",
      "|      179 | ED          | GUINESS     | 2006-02-15 04:34:33 |\n",
      "|      180 | JEFF        | SILVERSTONE | 2006-02-15 04:34:33 |\n",
      "|      181 | MATTHEW     | CARREY      | 2006-02-15 04:34:33 |\n",
      "|      182 | DEBBIE      | AKROYD      | 2006-02-15 04:34:33 |\n",
      "|      183 | RUSSELL     | CLOSE       | 2006-02-15 04:34:33 |\n",
      "|      184 | HUMPHREY    | GARLAND     | 2006-02-15 04:34:33 |\n",
      "|      185 | MICHAEL     | BOLGER      | 2006-02-15 04:34:33 |\n",
      "|      186 | JULIA       | ZELLWEGER   | 2006-02-15 04:34:33 |\n",
      "|      187 | RENEE       | BALL        | 2006-02-15 04:34:33 |\n",
      "|      188 | ROCK        | DUKAKIS     | 2006-02-15 04:34:33 |\n",
      "|      189 | CUBA        | BIRCH       | 2006-02-15 04:34:33 |\n",
      "|      190 | AUDREY      | BAILEY      | 2006-02-15 04:34:33 |\n",
      "|      191 | GREGORY     | GOODING     | 2006-02-15 04:34:33 |\n",
      "|      192 | JOHN        | SUVARI      | 2006-02-15 04:34:33 |\n",
      "|      193 | BURT        | TEMPLE      | 2006-02-15 04:34:33 |\n",
      "|      194 | MERYL       | ALLEN       | 2006-02-15 04:34:33 |\n",
      "|      195 | JAYNE       | SILVERSTONE | 2006-02-15 04:34:33 |\n",
      "|      196 | BELA        | WALKEN      | 2006-02-15 04:34:33 |\n",
      "|      197 | REESE       | WEST        | 2006-02-15 04:34:33 |\n",
      "|      198 | MARY        | KEITEL      | 2006-02-15 04:34:33 |\n",
      "|      199 | JULIA       | FAWCETT     | 2006-02-15 04:34:33 |\n",
      "|      200 | THORA       | TEMPLE      | 2006-02-15 04:34:33 |\n",
      "|      201 | Albert      | Einstein    | 2024-09-25 04:34:33 |\n",
      "+----------+-------------+-------------+---------------------+\n"
     ]
    }
   ],
   "source": [
    "# view the actor table to ensure insert, update, and delete edits were made\n",
    "!mysql sakila -e \"SELECT * FROM actor;\""
   ]
  },
  {
   "cell_type": "code",
   "execution_count": null,
   "id": "07e62313-0f68-4a2c-9cd8-c26bc12450aa",
   "metadata": {},
   "outputs": [],
   "source": []
  }
 ],
 "metadata": {
  "environment": {
   "kernel": "python3",
   "name": "common-cpu.m124",
   "type": "gcloud",
   "uri": "us-docker.pkg.dev/deeplearning-platform-release/gcr.io/base-cpu:m124"
  },
  "kernelspec": {
   "display_name": "Python 3",
   "language": "python",
   "name": "python3"
  },
  "language_info": {
   "codemirror_mode": {
    "name": "ipython",
    "version": 3
   },
   "file_extension": ".py",
   "mimetype": "text/x-python",
   "name": "python",
   "nbconvert_exporter": "python",
   "pygments_lexer": "ipython3",
   "version": "3.10.14"
  }
 },
 "nbformat": 4,
 "nbformat_minor": 5
}
